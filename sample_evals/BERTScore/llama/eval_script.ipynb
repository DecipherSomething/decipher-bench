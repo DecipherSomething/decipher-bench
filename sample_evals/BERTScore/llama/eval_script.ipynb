{
 "cells": [
  {
   "cell_type": "code",
   "execution_count": 1,
   "id": "e4b5cdce",
   "metadata": {},
   "outputs": [
    {
     "name": "stderr",
     "output_type": "stream",
     "text": [
      "c:\\Users\\Daniel\\AppData\\Local\\Programs\\Python\\Python313\\Lib\\site-packages\\tqdm\\auto.py:21: TqdmWarning: IProgress not found. Please update jupyter and ipywidgets. See https://ipywidgets.readthedocs.io/en/stable/user_install.html\n",
      "  from .autonotebook import tqdm as notebook_tqdm\n"
     ]
    }
   ],
   "source": [
    "import pandas as pd\n",
    "import torch\n",
    "from transformers import AutoTokenizer, AutoModelForCausalLM, pipeline\n",
    "from bert_score import score\n",
    "import re\n",
    "from huggingface_hub import login\n"
   ]
  },
  {
   "cell_type": "code",
   "execution_count": 6,
   "id": "df4ff587",
   "metadata": {},
   "outputs": [
    {
     "data": {
      "text/html": [
       "<div>\n",
       "<style scoped>\n",
       "    .dataframe tbody tr th:only-of-type {\n",
       "        vertical-align: middle;\n",
       "    }\n",
       "\n",
       "    .dataframe tbody tr th {\n",
       "        vertical-align: top;\n",
       "    }\n",
       "\n",
       "    .dataframe thead th {\n",
       "        text-align: right;\n",
       "    }\n",
       "</style>\n",
       "<table border=\"1\" class=\"dataframe\">\n",
       "  <thead>\n",
       "    <tr style=\"text-align: right;\">\n",
       "      <th></th>\n",
       "      <th>Term</th>\n",
       "      <th>Context Sentence</th>\n",
       "      <th>Prompt</th>\n",
       "      <th>Ground Truth</th>\n",
       "    </tr>\n",
       "  </thead>\n",
       "  <tbody>\n",
       "    <tr>\n",
       "      <th>0</th>\n",
       "      <td>Containerization</td>\n",
       "      <td>Modern applications often rely on containeriza...</td>\n",
       "      <td>Define the term \"Containerization\" in one sent...</td>\n",
       "      <td>Containerization is a software deployment meth...</td>\n",
       "    </tr>\n",
       "    <tr>\n",
       "      <th>1</th>\n",
       "      <td>Inheritance</td>\n",
       "      <td>This software module uses inheritance to share...</td>\n",
       "      <td>Define the term \"Inheritance\" in one sentence ...</td>\n",
       "      <td>Inheritance is an object-oriented programming ...</td>\n",
       "    </tr>\n",
       "    <tr>\n",
       "      <th>2</th>\n",
       "      <td>Latency</td>\n",
       "      <td>Reducing latency is critical in real-time comm...</td>\n",
       "      <td>Define the term \"Latency\" in one sentence base...</td>\n",
       "      <td>Latency refers to the delay between a user's a...</td>\n",
       "    </tr>\n",
       "    <tr>\n",
       "      <th>3</th>\n",
       "      <td>Orchestration</td>\n",
       "      <td>The team implemented orchestration tools to ma...</td>\n",
       "      <td>Define the term \"Orchestration\" in one sentenc...</td>\n",
       "      <td>Orchestration refers to the automated coordina...</td>\n",
       "    </tr>\n",
       "    <tr>\n",
       "      <th>4</th>\n",
       "      <td>Pipeline</td>\n",
       "      <td>Data scientists configured a pipeline to autom...</td>\n",
       "      <td>Define the term \"Pipeline\" in one sentence bas...</td>\n",
       "      <td>A pipeline is a sequence of data processing st...</td>\n",
       "    </tr>\n",
       "    <tr>\n",
       "      <th>5</th>\n",
       "      <td>Load Balancing</td>\n",
       "      <td>The web service uses load balancing to handle ...</td>\n",
       "      <td>Define the term \"Load Balancing\" in one senten...</td>\n",
       "      <td>Load balancing is the process of distributing ...</td>\n",
       "    </tr>\n",
       "    <tr>\n",
       "      <th>6</th>\n",
       "      <td>Endpoint</td>\n",
       "      <td>Each API must define at least one secure endpo...</td>\n",
       "      <td>Define the term \"Endpoint\" in one sentence bas...</td>\n",
       "      <td>An endpoint is a specific URL or interface in ...</td>\n",
       "    </tr>\n",
       "    <tr>\n",
       "      <th>7</th>\n",
       "      <td>Cache</td>\n",
       "      <td>The app stores session data in the cache for f...</td>\n",
       "      <td>Define the term \"Cache\" in one sentence based ...</td>\n",
       "      <td>A cache is a temporary storage layer that stor...</td>\n",
       "    </tr>\n",
       "    <tr>\n",
       "      <th>8</th>\n",
       "      <td>Stack</td>\n",
       "      <td>Their backend stack includes a database and a ...</td>\n",
       "      <td>Define the term \"Stack\" in one sentence based ...</td>\n",
       "      <td>A stack in technology refers to a collection o...</td>\n",
       "    </tr>\n",
       "    <tr>\n",
       "      <th>9</th>\n",
       "      <td>Fork</td>\n",
       "      <td>The developer decided to fork the repository t...</td>\n",
       "      <td>Define the term \"Fork\" in one sentence based o...</td>\n",
       "      <td>To fork a repository means to create a persona...</td>\n",
       "    </tr>\n",
       "  </tbody>\n",
       "</table>\n",
       "</div>"
      ],
      "text/plain": [
       "               Term                                   Context Sentence  \\\n",
       "0  Containerization  Modern applications often rely on containeriza...   \n",
       "1       Inheritance  This software module uses inheritance to share...   \n",
       "2           Latency  Reducing latency is critical in real-time comm...   \n",
       "3     Orchestration  The team implemented orchestration tools to ma...   \n",
       "4          Pipeline  Data scientists configured a pipeline to autom...   \n",
       "5    Load Balancing  The web service uses load balancing to handle ...   \n",
       "6          Endpoint  Each API must define at least one secure endpo...   \n",
       "7             Cache  The app stores session data in the cache for f...   \n",
       "8             Stack  Their backend stack includes a database and a ...   \n",
       "9              Fork  The developer decided to fork the repository t...   \n",
       "\n",
       "                                              Prompt  \\\n",
       "0  Define the term \"Containerization\" in one sent...   \n",
       "1  Define the term \"Inheritance\" in one sentence ...   \n",
       "2  Define the term \"Latency\" in one sentence base...   \n",
       "3  Define the term \"Orchestration\" in one sentenc...   \n",
       "4  Define the term \"Pipeline\" in one sentence bas...   \n",
       "5  Define the term \"Load Balancing\" in one senten...   \n",
       "6  Define the term \"Endpoint\" in one sentence bas...   \n",
       "7  Define the term \"Cache\" in one sentence based ...   \n",
       "8  Define the term \"Stack\" in one sentence based ...   \n",
       "9  Define the term \"Fork\" in one sentence based o...   \n",
       "\n",
       "                                        Ground Truth  \n",
       "0  Containerization is a software deployment meth...  \n",
       "1  Inheritance is an object-oriented programming ...  \n",
       "2  Latency refers to the delay between a user's a...  \n",
       "3  Orchestration refers to the automated coordina...  \n",
       "4  A pipeline is a sequence of data processing st...  \n",
       "5  Load balancing is the process of distributing ...  \n",
       "6  An endpoint is a specific URL or interface in ...  \n",
       "7  A cache is a temporary storage layer that stor...  \n",
       "8  A stack in technology refers to a collection o...  \n",
       "9  To fork a repository means to create a persona...  "
      ]
     },
     "execution_count": 6,
     "metadata": {},
     "output_type": "execute_result"
    }
   ],
   "source": [
    "pd.read_csv(\"../../tech_terms_sub.csv\")"
   ]
  },
  {
   "cell_type": "code",
   "execution_count": null,
   "id": "a1b7440e",
   "metadata": {},
   "outputs": [],
   "source": [
    "login(\"--------------\")  # Replace with your Hugging Face token"
   ]
  },
  {
   "cell_type": "code",
   "execution_count": 7,
   "id": "afcef3bf",
   "metadata": {},
   "outputs": [],
   "source": [
    "df = pd.read_csv(\"../../tech_terms_sub.csv\") \n",
    "required_cols = [\"Term\", \"Context Sentence\", \"Prompt\", \"Ground Truth\"]\n",
    "missing_cols = [col for col in required_cols if col not in df.columns]\n",
    "if missing_cols:\n",
    "    raise ValueError(f\"Missing columns: {missing_cols}\")\n",
    "\n",
    "df = df.dropna(subset=[\"Prompt\", \"Ground Truth\"]).reset_index(drop=True)"
   ]
  },
  {
   "cell_type": "code",
   "execution_count": 5,
   "id": "30304b86",
   "metadata": {},
   "outputs": [
    {
     "name": "stderr",
     "output_type": "stream",
     "text": [
      "c:\\Users\\Daniel\\AppData\\Local\\Programs\\Python\\Python313\\Lib\\site-packages\\huggingface_hub\\file_download.py:143: UserWarning: `huggingface_hub` cache-system uses symlinks by default to efficiently store duplicated files but your machine does not support them in C:\\Users\\Daniel\\.cache\\huggingface\\hub\\models--meta-llama--Llama-3.1-8B-Instruct. Caching files will still work but in a degraded version that might require more space on your disk. This warning can be disabled by setting the `HF_HUB_DISABLE_SYMLINKS_WARNING` environment variable. For more details, see https://huggingface.co/docs/huggingface_hub/how-to-cache#limitations.\n",
      "To support symlinks on Windows, you either need to activate Developer Mode or to run Python as an administrator. In order to activate developer mode, see this article: https://docs.microsoft.com/en-us/windows/apps/get-started/enable-your-device-for-development\n",
      "  warnings.warn(message)\n",
      "Fetching 4 files: 100%|██████████| 4/4 [10:08<00:00, 152.10s/it]\n",
      "Loading checkpoint shards: 100%|██████████| 4/4 [00:09<00:00,  2.38s/it]\n",
      "Some parameters are on the meta device because they were offloaded to the disk and cpu.\n",
      "Device set to use cpu\n",
      "The following generation flags are not valid and may be ignored: ['temperature', 'top_p']. Set `TRANSFORMERS_VERBOSITY=info` for more details.\n"
     ]
    }
   ],
   "source": [
    "model_id = \"meta-llama/Llama-3.1-8B-Instruct\"\n",
    "tokenizer = AutoTokenizer.from_pretrained(model_id)\n",
    "model = AutoModelForCausalLM.from_pretrained(\n",
    "    model_id,\n",
    "    torch_dtype=torch.float16,\n",
    "    device_map=\"auto\"\n",
    ")\n",
    "\n",
    "generator = pipeline(\n",
    "    \"text-generation\",\n",
    "    model=model,\n",
    "    tokenizer=tokenizer,\n",
    "    max_new_tokens=100,\n",
    "    do_sample=False\n",
    ")"
   ]
  },
  {
   "cell_type": "code",
   "execution_count": 8,
   "id": "1cdcc896",
   "metadata": {},
   "outputs": [
    {
     "name": "stderr",
     "output_type": "stream",
     "text": [
      "The following generation flags are not valid and may be ignored: ['temperature', 'top_p']. Set `TRANSFORMERS_VERBOSITY=info` for more details.\n",
      "Setting `pad_token_id` to `eos_token_id`:128001 for open-end generation.\n",
      "The following generation flags are not valid and may be ignored: ['temperature', 'top_p']. Set `TRANSFORMERS_VERBOSITY=info` for more details.\n",
      "Setting `pad_token_id` to `eos_token_id`:128001 for open-end generation.\n",
      "The following generation flags are not valid and may be ignored: ['temperature', 'top_p']. Set `TRANSFORMERS_VERBOSITY=info` for more details.\n",
      "Setting `pad_token_id` to `eos_token_id`:128001 for open-end generation.\n",
      "The following generation flags are not valid and may be ignored: ['temperature', 'top_p']. Set `TRANSFORMERS_VERBOSITY=info` for more details.\n",
      "Setting `pad_token_id` to `eos_token_id`:128001 for open-end generation.\n",
      "The following generation flags are not valid and may be ignored: ['temperature', 'top_p']. Set `TRANSFORMERS_VERBOSITY=info` for more details.\n",
      "Setting `pad_token_id` to `eos_token_id`:128001 for open-end generation.\n",
      "The following generation flags are not valid and may be ignored: ['temperature', 'top_p']. Set `TRANSFORMERS_VERBOSITY=info` for more details.\n",
      "Setting `pad_token_id` to `eos_token_id`:128001 for open-end generation.\n",
      "The following generation flags are not valid and may be ignored: ['temperature', 'top_p']. Set `TRANSFORMERS_VERBOSITY=info` for more details.\n",
      "Setting `pad_token_id` to `eos_token_id`:128001 for open-end generation.\n",
      "The following generation flags are not valid and may be ignored: ['temperature', 'top_p']. Set `TRANSFORMERS_VERBOSITY=info` for more details.\n",
      "Setting `pad_token_id` to `eos_token_id`:128001 for open-end generation.\n",
      "The following generation flags are not valid and may be ignored: ['temperature', 'top_p']. Set `TRANSFORMERS_VERBOSITY=info` for more details.\n",
      "Setting `pad_token_id` to `eos_token_id`:128001 for open-end generation.\n",
      "The following generation flags are not valid and may be ignored: ['temperature', 'top_p']. Set `TRANSFORMERS_VERBOSITY=info` for more details.\n",
      "Setting `pad_token_id` to `eos_token_id`:128001 for open-end generation.\n"
     ]
    }
   ],
   "source": [
    "outputs = []\n",
    "for prompt in df[\"Prompt\"]:\n",
    "    try:\n",
    "        result = generator(prompt)[0][\"generated_text\"]\n",
    "        response = result.replace(prompt, \"\").strip()\n",
    "    except Exception as e:\n",
    "        response = f\"[ERROR: {str(e)}]\"\n",
    "    outputs.append(response)\n",
    "\n",
    "df[\"Llama_8B_Output\"] = outputs"
   ]
  },
  {
   "cell_type": "code",
   "execution_count": 9,
   "id": "2f406526",
   "metadata": {},
   "outputs": [
    {
     "data": {
      "text/html": [
       "<div>\n",
       "<style scoped>\n",
       "    .dataframe tbody tr th:only-of-type {\n",
       "        vertical-align: middle;\n",
       "    }\n",
       "\n",
       "    .dataframe tbody tr th {\n",
       "        vertical-align: top;\n",
       "    }\n",
       "\n",
       "    .dataframe thead th {\n",
       "        text-align: right;\n",
       "    }\n",
       "</style>\n",
       "<table border=\"1\" class=\"dataframe\">\n",
       "  <thead>\n",
       "    <tr style=\"text-align: right;\">\n",
       "      <th></th>\n",
       "      <th>Term</th>\n",
       "      <th>Context Sentence</th>\n",
       "      <th>Prompt</th>\n",
       "      <th>Ground Truth</th>\n",
       "      <th>Llama_8B_Output</th>\n",
       "    </tr>\n",
       "  </thead>\n",
       "  <tbody>\n",
       "    <tr>\n",
       "      <th>0</th>\n",
       "      <td>Containerization</td>\n",
       "      <td>Modern applications often rely on containeriza...</td>\n",
       "      <td>Define the term \"Containerization\" in one sent...</td>\n",
       "      <td>Containerization is a software deployment meth...</td>\n",
       "      <td>Containerization is a lightweight and portable...</td>\n",
       "    </tr>\n",
       "    <tr>\n",
       "      <th>1</th>\n",
       "      <td>Inheritance</td>\n",
       "      <td>This software module uses inheritance to share...</td>\n",
       "      <td>Define the term \"Inheritance\" in one sentence ...</td>\n",
       "      <td>Inheritance is an object-oriented programming ...</td>\n",
       "      <td>The context sentence is: \"The inheritance of t...</td>\n",
       "    </tr>\n",
       "    <tr>\n",
       "      <th>2</th>\n",
       "      <td>Latency</td>\n",
       "      <td>Reducing latency is critical in real-time comm...</td>\n",
       "      <td>Define the term \"Latency\" in one sentence base...</td>\n",
       "      <td>Latency refers to the delay between a user's a...</td>\n",
       "      <td>Latency is the time delay between the moment a...</td>\n",
       "    </tr>\n",
       "    <tr>\n",
       "      <th>3</th>\n",
       "      <td>Orchestration</td>\n",
       "      <td>The team implemented orchestration tools to ma...</td>\n",
       "      <td>Define the term \"Orchestration\" in one sentenc...</td>\n",
       "      <td>Orchestration refers to the automated coordina...</td>\n",
       "      <td>The context sentence is: \"The composer's use o...</td>\n",
       "    </tr>\n",
       "    <tr>\n",
       "      <th>4</th>\n",
       "      <td>Pipeline</td>\n",
       "      <td>Data scientists configured a pipeline to autom...</td>\n",
       "      <td>Define the term \"Pipeline\" in one sentence bas...</td>\n",
       "      <td>A pipeline is a sequence of data processing st...</td>\n",
       "      <td>The context sentence is: \"The pipeline will be...</td>\n",
       "    </tr>\n",
       "    <tr>\n",
       "      <th>5</th>\n",
       "      <td>Load Balancing</td>\n",
       "      <td>The web service uses load balancing to handle ...</td>\n",
       "      <td>Define the term \"Load Balancing\" in one senten...</td>\n",
       "      <td>Load balancing is the process of distributing ...</td>\n",
       "      <td>The context sentence is: \"The load balancer is...</td>\n",
       "    </tr>\n",
       "    <tr>\n",
       "      <th>6</th>\n",
       "      <td>Endpoint</td>\n",
       "      <td>Each API must define at least one secure endpo...</td>\n",
       "      <td>Define the term \"Endpoint\" in one sentence bas...</td>\n",
       "      <td>An endpoint is a specific URL or interface in ...</td>\n",
       "      <td>The context sentence is: \"The endpoint of the ...</td>\n",
       "    </tr>\n",
       "    <tr>\n",
       "      <th>7</th>\n",
       "      <td>Cache</td>\n",
       "      <td>The app stores session data in the cache for f...</td>\n",
       "      <td>Define the term \"Cache\" in one sentence based ...</td>\n",
       "      <td>A cache is a temporary storage layer that stor...</td>\n",
       "      <td>The context sentence is: \"The browser's cache ...</td>\n",
       "    </tr>\n",
       "    <tr>\n",
       "      <th>8</th>\n",
       "      <td>Stack</td>\n",
       "      <td>Their backend stack includes a database and a ...</td>\n",
       "      <td>Define the term \"Stack\" in one sentence based ...</td>\n",
       "      <td>A stack in technology refers to a collection o...</td>\n",
       "      <td>The context sentence is: \"The stack of books o...</td>\n",
       "    </tr>\n",
       "    <tr>\n",
       "      <th>9</th>\n",
       "      <td>Fork</td>\n",
       "      <td>The developer decided to fork the repository t...</td>\n",
       "      <td>Define the term \"Fork\" in one sentence based o...</td>\n",
       "      <td>To fork a repository means to create a persona...</td>\n",
       "      <td>The context sentence is: \"The fork is a utensi...</td>\n",
       "    </tr>\n",
       "  </tbody>\n",
       "</table>\n",
       "</div>"
      ],
      "text/plain": [
       "               Term                                   Context Sentence  \\\n",
       "0  Containerization  Modern applications often rely on containeriza...   \n",
       "1       Inheritance  This software module uses inheritance to share...   \n",
       "2           Latency  Reducing latency is critical in real-time comm...   \n",
       "3     Orchestration  The team implemented orchestration tools to ma...   \n",
       "4          Pipeline  Data scientists configured a pipeline to autom...   \n",
       "5    Load Balancing  The web service uses load balancing to handle ...   \n",
       "6          Endpoint  Each API must define at least one secure endpo...   \n",
       "7             Cache  The app stores session data in the cache for f...   \n",
       "8             Stack  Their backend stack includes a database and a ...   \n",
       "9              Fork  The developer decided to fork the repository t...   \n",
       "\n",
       "                                              Prompt  \\\n",
       "0  Define the term \"Containerization\" in one sent...   \n",
       "1  Define the term \"Inheritance\" in one sentence ...   \n",
       "2  Define the term \"Latency\" in one sentence base...   \n",
       "3  Define the term \"Orchestration\" in one sentenc...   \n",
       "4  Define the term \"Pipeline\" in one sentence bas...   \n",
       "5  Define the term \"Load Balancing\" in one senten...   \n",
       "6  Define the term \"Endpoint\" in one sentence bas...   \n",
       "7  Define the term \"Cache\" in one sentence based ...   \n",
       "8  Define the term \"Stack\" in one sentence based ...   \n",
       "9  Define the term \"Fork\" in one sentence based o...   \n",
       "\n",
       "                                        Ground Truth  \\\n",
       "0  Containerization is a software deployment meth...   \n",
       "1  Inheritance is an object-oriented programming ...   \n",
       "2  Latency refers to the delay between a user's a...   \n",
       "3  Orchestration refers to the automated coordina...   \n",
       "4  A pipeline is a sequence of data processing st...   \n",
       "5  Load balancing is the process of distributing ...   \n",
       "6  An endpoint is a specific URL or interface in ...   \n",
       "7  A cache is a temporary storage layer that stor...   \n",
       "8  A stack in technology refers to a collection o...   \n",
       "9  To fork a repository means to create a persona...   \n",
       "\n",
       "                                     Llama_8B_Output  \n",
       "0  Containerization is a lightweight and portable...  \n",
       "1  The context sentence is: \"The inheritance of t...  \n",
       "2  Latency is the time delay between the moment a...  \n",
       "3  The context sentence is: \"The composer's use o...  \n",
       "4  The context sentence is: \"The pipeline will be...  \n",
       "5  The context sentence is: \"The load balancer is...  \n",
       "6  The context sentence is: \"The endpoint of the ...  \n",
       "7  The context sentence is: \"The browser's cache ...  \n",
       "8  The context sentence is: \"The stack of books o...  \n",
       "9  The context sentence is: \"The fork is a utensi...  "
      ]
     },
     "execution_count": 9,
     "metadata": {},
     "output_type": "execute_result"
    }
   ],
   "source": [
    "df"
   ]
  },
  {
   "cell_type": "code",
   "execution_count": 10,
   "id": "bbe38a63",
   "metadata": {},
   "outputs": [],
   "source": [
    "def clean_output(text):\n",
    "    # Remove common prefixes and formatting\n",
    "    text = re.sub(r\"(?i)^answer:\\s*\", \"\", text)  # case-insensitive 'Answer:'\n",
    "    text = re.sub(r\"(?i)step\\s*\\d+/\\d+\\s*\", \"\", text)  # Step 1/2 or 2/2 etc.\n",
    "    text = re.sub(r\"\\n+\", \" \", text)  # Replace newlines with space\n",
    "    return text.strip()\n",
    "\n",
    "df[\"Llama_8B_Output\"] = df[\"Llama_8B_Output\"].apply(clean_output)"
   ]
  },
  {
   "cell_type": "code",
   "execution_count": 11,
   "id": "279d9bae",
   "metadata": {},
   "outputs": [],
   "source": [
    "def deduplicate_sentences(text):\n",
    "    sentences = list(dict.fromkeys(text.split('. ')))  # remove exact duplicates\n",
    "    return '. '.join(sentences)\n",
    "\n",
    "df[\"Llama_8B_Output\"] = df[\"Llama_8B_Output\"].apply(deduplicate_sentences)"
   ]
  },
  {
   "cell_type": "code",
   "execution_count": null,
   "id": "aa4f9817",
   "metadata": {},
   "outputs": [
    {
     "name": "stderr",
     "output_type": "stream",
     "text": [
      "Some weights of RobertaModel were not initialized from the model checkpoint at roberta-large and are newly initialized: ['pooler.dense.bias', 'pooler.dense.weight']\n",
      "You should probably TRAIN this model on a down-stream task to be able to use it for predictions and inference.\n"
     ]
    },
    {
     "name": "stdout",
     "output_type": "stream",
     "text": [
      "calculating scores...\n",
      "computing bert embedding.\n"
     ]
    },
    {
     "name": "stderr",
     "output_type": "stream",
     "text": [
      "  0%|          | 0/1 [00:00<?, ?it/s]c:\\Users\\Daniel\\AppData\\Local\\Programs\\Python\\Python313\\Lib\\site-packages\\torch\\nn\\modules\\module.py:1762: FutureWarning: `encoder_attention_mask` is deprecated and will be removed in version 4.55.0 for `RobertaSdpaSelfAttention.forward`.\n",
      "  return forward_call(*args, **kwargs)\n",
      "100%|██████████| 1/1 [00:02<00:00,  2.60s/it]\n"
     ]
    },
    {
     "name": "stdout",
     "output_type": "stream",
     "text": [
      "computing greedy matching.\n"
     ]
    },
    {
     "name": "stderr",
     "output_type": "stream",
     "text": [
      "100%|██████████| 1/1 [00:00<00:00, 85.21it/s]"
     ]
    },
    {
     "name": "stdout",
     "output_type": "stream",
     "text": [
      "done in 2.61 seconds, 3.83 sentences/sec\n",
      "✅ Average BERTScore F1: 0.8499\n"
     ]
    },
    {
     "name": "stderr",
     "output_type": "stream",
     "text": [
      "\n"
     ]
    }
   ],
   "source": [
    "P, R, F1 = score(\n",
    "    df[\"Llama_8B_Output\"].tolist(),\n",
    "    df[\"Ground Truth\"].tolist(),\n",
    "    lang=\"en\",\n",
    "    verbose=True\n",
    ")\n",
    "\n",
    "df[\"BERTScore_Precision\"] = P\n",
    "df[\"BERTScore_Recall\"] = R\n",
    "df[\"BERTScore_F1\"] = F1\n",
    "\n",
    "print(f\"✅ Average BERTScore F1: {F1.mean():.4f}\")"
   ]
  },
  {
   "cell_type": "code",
   "execution_count": null,
   "id": "5864ae77",
   "metadata": {},
   "outputs": [],
   "source": [
    "df.to_csv(\"llama8b_bert_score_results.csv\", index=False)\n",
    "print(\"Saved: llama8b_bert_score_results.csv\")"
   ]
  },
  {
   "cell_type": "code",
   "execution_count": null,
   "id": "cd00270b",
   "metadata": {},
   "outputs": [],
   "source": []
  }
 ],
 "metadata": {
  "kernelspec": {
   "display_name": "Python 3",
   "language": "python",
   "name": "python3"
  },
  "language_info": {
   "codemirror_mode": {
    "name": "ipython",
    "version": 3
   },
   "file_extension": ".py",
   "mimetype": "text/x-python",
   "name": "python",
   "nbconvert_exporter": "python",
   "pygments_lexer": "ipython3",
   "version": "3.13.0"
  }
 },
 "nbformat": 4,
 "nbformat_minor": 5
}
